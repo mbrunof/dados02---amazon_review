{
 "cells": [
  {
   "cell_type": "markdown",
   "id": "66cf447e",
   "metadata": {},
   "source": [
    "fonte dos dados: https://jmcauley.ucsd.edu/data/amazon/\n",
    "\n",
    "Perguntas:\n",
    "- Quais são os cinco produtos com maior quantidade de reviews?\n",
    "- Quais são os cinco produtos com maior rating médio?\n",
    "- Assuma que qualquer review com rating maior que 3 é positivo. (3.5, 4, 4.5, 5.0). Qual percentual de reviews positivos para os cinco produtos com maior quantidade de reviews?\n",
    "- De acordo com a pergunta acima, qual percentual de reviews positivos para os cinco protudos com maior rating médio?\n",
    "- Quanto menos reviews, mais fácil ter um percentual maior de reviews positivos. Para comparar melhor os melhores produtos, vamos usar uma regra: qual seria o percentual de reviews positivos de todos os produtos, se eu adicionasse 1 review positivo e 1 review negativo? (fonte: https://www.youtube.com/watch?v=8idr1WZ1A7Q)\n",
    "\n",
    "Explicando melhor a última pergunta:\n",
    "\n",
    "Imagina que um produto tenha 50 reviews, 37 positivos. Então, vamos adicionar 1 positivo e 1 negativo, ficamos com 38 positivos e 24 negativos. Assim, o percentual de positivos é 38/52 = 73%.\n",
    "\n",
    "- Qual o preço médio de todos os produtos?\n",
    "- Qual o preço médio de produtos da Philips, da 3M e da Duracell?\n",
    "- Para cada produto da Philips, da 3M e da Duracell, calcule o percentual de reviews positivos (sem usar o conceito acima). Qual o percentual de positivos médio para cada uma dessas marcas? "
   ]
  },
  {
   "cell_type": "code",
   "execution_count": 12,
   "id": "06b9c881",
   "metadata": {},
   "outputs": [],
   "source": [
    "# Import inicial das libs utilizadas no projeto\n",
    "\n",
    "import pandas as pd\n",
    "import numpy as np"
   ]
  },
  {
   "cell_type": "code",
   "execution_count": 17,
   "id": "4b4b11d7",
   "metadata": {},
   "outputs": [
    {
     "data": {
      "text/html": [
       "<div>\n",
       "<style scoped>\n",
       "    .dataframe tbody tr th:only-of-type {\n",
       "        vertical-align: middle;\n",
       "    }\n",
       "\n",
       "    .dataframe tbody tr th {\n",
       "        vertical-align: top;\n",
       "    }\n",
       "\n",
       "    .dataframe thead th {\n",
       "        text-align: right;\n",
       "    }\n",
       "</style>\n",
       "<table border=\"1\" class=\"dataframe\">\n",
       "  <thead>\n",
       "    <tr style=\"text-align: right;\">\n",
       "      <th></th>\n",
       "      <th>asin</th>\n",
       "      <th>title</th>\n",
       "      <th>price</th>\n",
       "      <th>brand</th>\n",
       "    </tr>\n",
       "  </thead>\n",
       "  <tbody>\n",
       "    <tr>\n",
       "      <th>0</th>\n",
       "      <td>0736789928</td>\n",
       "      <td>Zaner-Bloser Classic Handwriting Pen Single Un...</td>\n",
       "      <td>3.49</td>\n",
       "      <td>Zaner-Bloser</td>\n",
       "    </tr>\n",
       "    <tr>\n",
       "      <th>1</th>\n",
       "      <td>0767196813</td>\n",
       "      <td>Graphique - Bunco Purse Notes, 3 x 4&amp;quot;, Mu...</td>\n",
       "      <td>3.95</td>\n",
       "      <td>None</td>\n",
       "    </tr>\n",
       "    <tr>\n",
       "      <th>2</th>\n",
       "      <td>1423915380</td>\n",
       "      <td>Renata Battery 370 Sr920W Silver 1.55V Swiss Made</td>\n",
       "      <td>2.85</td>\n",
       "      <td>Renata</td>\n",
       "    </tr>\n",
       "    <tr>\n",
       "      <th>3</th>\n",
       "      <td>1424333083</td>\n",
       "      <td>Kinesiotaping in Pediatrics: Fundamentals and ...</td>\n",
       "      <td>48.90</td>\n",
       "      <td>Kinesio</td>\n",
       "    </tr>\n",
       "    <tr>\n",
       "      <th>4</th>\n",
       "      <td>1472607341</td>\n",
       "      <td>Filofax Personal Original Patent Purple</td>\n",
       "      <td>NaN</td>\n",
       "      <td>None</td>\n",
       "    </tr>\n",
       "    <tr>\n",
       "      <th>5</th>\n",
       "      <td>1574890719</td>\n",
       "      <td>Cavallini and Glitter Gift Tags Birds 36 Assor...</td>\n",
       "      <td>12.45</td>\n",
       "      <td>Cavallini &amp;amp; Co.</td>\n",
       "    </tr>\n",
       "    <tr>\n",
       "      <th>6</th>\n",
       "      <td>1574899201</td>\n",
       "      <td>Cavallini Paris Decorative Paper Tape - 5 asso...</td>\n",
       "      <td>12.95</td>\n",
       "      <td>Cavallini &amp;amp; Co.</td>\n",
       "    </tr>\n",
       "    <tr>\n",
       "      <th>7</th>\n",
       "      <td>157489823X</td>\n",
       "      <td>Cavallini Notebooks New York 6 x 8</td>\n",
       "      <td>11.95</td>\n",
       "      <td>Cavallini &amp;amp; Co.</td>\n",
       "    </tr>\n",
       "    <tr>\n",
       "      <th>8</th>\n",
       "      <td>1619920433</td>\n",
       "      <td>Cavallini 6 by 8-Inch Birds Notebook, 144 Pages</td>\n",
       "      <td>11.55</td>\n",
       "      <td>None</td>\n",
       "    </tr>\n",
       "    <tr>\n",
       "      <th>9</th>\n",
       "      <td>1619920441</td>\n",
       "      <td>Cavallini &amp;amp; Co. Anatomy Decorative Wrappin...</td>\n",
       "      <td>8.97</td>\n",
       "      <td>Cavallini &amp;amp; Co.</td>\n",
       "    </tr>\n",
       "  </tbody>\n",
       "</table>\n",
       "</div>"
      ],
      "text/plain": [
       "         asin                                              title  price  \\\n",
       "0  0736789928  Zaner-Bloser Classic Handwriting Pen Single Un...   3.49   \n",
       "1  0767196813  Graphique - Bunco Purse Notes, 3 x 4&quot;, Mu...   3.95   \n",
       "2  1423915380  Renata Battery 370 Sr920W Silver 1.55V Swiss Made   2.85   \n",
       "3  1424333083  Kinesiotaping in Pediatrics: Fundamentals and ...  48.90   \n",
       "4  1472607341            Filofax Personal Original Patent Purple    NaN   \n",
       "5  1574890719  Cavallini and Glitter Gift Tags Birds 36 Assor...  12.45   \n",
       "6  1574899201  Cavallini Paris Decorative Paper Tape - 5 asso...  12.95   \n",
       "7  157489823X                 Cavallini Notebooks New York 6 x 8  11.95   \n",
       "8  1619920433    Cavallini 6 by 8-Inch Birds Notebook, 144 Pages  11.55   \n",
       "9  1619920441  Cavallini &amp; Co. Anatomy Decorative Wrappin...   8.97   \n",
       "\n",
       "                 brand  \n",
       "0         Zaner-Bloser  \n",
       "1                 None  \n",
       "2               Renata  \n",
       "3              Kinesio  \n",
       "4                 None  \n",
       "5  Cavallini &amp; Co.  \n",
       "6  Cavallini &amp; Co.  \n",
       "7  Cavallini &amp; Co.  \n",
       "8                 None  \n",
       "9  Cavallini &amp; Co.  "
      ]
     },
     "execution_count": 17,
     "metadata": {},
     "output_type": "execute_result"
    }
   ],
   "source": [
    "# Leitura dos dados de PRODUTOS e carregamento em um dataframe pandas\n",
    "df = pd.read_json('./metadata_products.json', lines=True )\n",
    "df.head(10)"
   ]
  },
  {
   "cell_type": "code",
   "execution_count": 19,
   "id": "b1f00ab8",
   "metadata": {},
   "outputs": [
    {
     "data": {
      "text/html": [
       "<div>\n",
       "<style scoped>\n",
       "    .dataframe tbody tr th:only-of-type {\n",
       "        vertical-align: middle;\n",
       "    }\n",
       "\n",
       "    .dataframe tbody tr th {\n",
       "        vertical-align: top;\n",
       "    }\n",
       "\n",
       "    .dataframe thead th {\n",
       "        text-align: right;\n",
       "    }\n",
       "</style>\n",
       "<table border=\"1\" class=\"dataframe\">\n",
       "  <thead>\n",
       "    <tr style=\"text-align: right;\">\n",
       "      <th></th>\n",
       "      <th>reviewerID</th>\n",
       "      <th>asin</th>\n",
       "      <th>reviewText</th>\n",
       "      <th>rating</th>\n",
       "    </tr>\n",
       "  </thead>\n",
       "  <tbody>\n",
       "    <tr>\n",
       "      <th>0</th>\n",
       "      <td>AVEZNYIN8PTCY</td>\n",
       "      <td>0736789928</td>\n",
       "      <td>This was the pen I used in grade school to lea...</td>\n",
       "      <td>4</td>\n",
       "    </tr>\n",
       "    <tr>\n",
       "      <th>1</th>\n",
       "      <td>A15C9PBP100HLB</td>\n",
       "      <td>0767196813</td>\n",
       "      <td>At our monthly BUNCO games we give prizes for ...</td>\n",
       "      <td>5</td>\n",
       "    </tr>\n",
       "    <tr>\n",
       "      <th>2</th>\n",
       "      <td>A349LYELBIFDVK</td>\n",
       "      <td>1423915380</td>\n",
       "      <td>Can't get my fossil to work with it. So took i...</td>\n",
       "      <td>4</td>\n",
       "    </tr>\n",
       "    <tr>\n",
       "      <th>3</th>\n",
       "      <td>AS33ZA0EODGZ8</td>\n",
       "      <td>1424333083</td>\n",
       "      <td>I have attended several courses taught by the ...</td>\n",
       "      <td>2</td>\n",
       "    </tr>\n",
       "    <tr>\n",
       "      <th>4</th>\n",
       "      <td>A1975EX0SEQM6O</td>\n",
       "      <td>1424333083</td>\n",
       "      <td>This has already come in handy for taping my s...</td>\n",
       "      <td>5</td>\n",
       "    </tr>\n",
       "    <tr>\n",
       "      <th>5</th>\n",
       "      <td>A3NTXSCT01FE8Y</td>\n",
       "      <td>1472607341</td>\n",
       "      <td>I ordered my filo on sunday and recieved it  o...</td>\n",
       "      <td>5</td>\n",
       "    </tr>\n",
       "    <tr>\n",
       "      <th>6</th>\n",
       "      <td>A1W6PXDD1CVKI</td>\n",
       "      <td>1574890719</td>\n",
       "      <td>These are adorable gift tags, retro and cute. ...</td>\n",
       "      <td>5</td>\n",
       "    </tr>\n",
       "    <tr>\n",
       "      <th>7</th>\n",
       "      <td>A3SRVYVONE131J</td>\n",
       "      <td>157489823X</td>\n",
       "      <td>Got this for my trip to NYC this summer. I tho...</td>\n",
       "      <td>4</td>\n",
       "    </tr>\n",
       "    <tr>\n",
       "      <th>8</th>\n",
       "      <td>A11NMMQEI6HFBA</td>\n",
       "      <td>1574899201</td>\n",
       "      <td>High quality washi tape in a tin. A good bit o...</td>\n",
       "      <td>5</td>\n",
       "    </tr>\n",
       "    <tr>\n",
       "      <th>9</th>\n",
       "      <td>A1L1ONPYVRYRYZ</td>\n",
       "      <td>1619920433</td>\n",
       "      <td>Cavallini has all kinds of fun and pretty trav...</td>\n",
       "      <td>5</td>\n",
       "    </tr>\n",
       "  </tbody>\n",
       "</table>\n",
       "</div>"
      ],
      "text/plain": [
       "       reviewerID        asin  \\\n",
       "0   AVEZNYIN8PTCY  0736789928   \n",
       "1  A15C9PBP100HLB  0767196813   \n",
       "2  A349LYELBIFDVK  1423915380   \n",
       "3   AS33ZA0EODGZ8  1424333083   \n",
       "4  A1975EX0SEQM6O  1424333083   \n",
       "5  A3NTXSCT01FE8Y  1472607341   \n",
       "6   A1W6PXDD1CVKI  1574890719   \n",
       "7  A3SRVYVONE131J  157489823X   \n",
       "8  A11NMMQEI6HFBA  1574899201   \n",
       "9  A1L1ONPYVRYRYZ  1619920433   \n",
       "\n",
       "                                          reviewText  rating  \n",
       "0  This was the pen I used in grade school to lea...       4  \n",
       "1  At our monthly BUNCO games we give prizes for ...       5  \n",
       "2  Can't get my fossil to work with it. So took i...       4  \n",
       "3  I have attended several courses taught by the ...       2  \n",
       "4  This has already come in handy for taping my s...       5  \n",
       "5  I ordered my filo on sunday and recieved it  o...       5  \n",
       "6  These are adorable gift tags, retro and cute. ...       5  \n",
       "7  Got this for my trip to NYC this summer. I tho...       4  \n",
       "8  High quality washi tape in a tin. A good bit o...       5  \n",
       "9  Cavallini has all kinds of fun and pretty trav...       5  "
      ]
     },
     "execution_count": 19,
     "metadata": {},
     "output_type": "execute_result"
    }
   ],
   "source": [
    "# Leitura dos dados de PRODUTOS e carregamento em um dataframe pandas\n",
    "df2 = pd.read_json('./reviews_amazon.json')\n",
    "df2.head(10)"
   ]
  },
  {
   "cell_type": "code",
   "execution_count": 69,
   "id": "15e0319f",
   "metadata": {},
   "outputs": [
    {
     "data": {
      "text/plain": [
       "asin\n",
       "B00HK61L3C    1164\n",
       "B00B5H5BGA     533\n",
       "B00FMJKRB6     392\n",
       "B00I5H5Z1O     319\n",
       "B0095PZHPE     311\n",
       "Name: asin, dtype: int64"
      ]
     },
     "execution_count": 69,
     "metadata": {},
     "output_type": "execute_result"
    }
   ],
   "source": [
    "#1 Quais são os cinco produtos com maior quantidade de reviews?\n",
    "\n",
    "df_qtd_reviews = df2.groupby(['asin'])['asin'].count().sort_values(ascending=False)\n",
    "df_qtd_reviews.head(5)\n"
   ]
  },
  {
   "cell_type": "code",
   "execution_count": 85,
   "id": "f4b5079d",
   "metadata": {},
   "outputs": [
    {
     "data": {
      "text/plain": [
       "asin\n",
       "B004XC5CD6    5.0\n",
       "B005MGDRRA    5.0\n",
       "B005MKP9OK    5.0\n",
       "B005MKA4U4    5.0\n",
       "B005MK9GYO    5.0\n",
       "Name: rating, dtype: float64"
      ]
     },
     "execution_count": 85,
     "metadata": {},
     "output_type": "execute_result"
    }
   ],
   "source": [
    "#2 Quais são os cinco produtos com maior rating médio?\n",
    "\n",
    "df_rating_medio = df2.groupby(['asin'])['rating'].mean().sort_values(ascending=False)\n",
    "df_rating_medio.head(5)\n"
   ]
  },
  {
   "cell_type": "code",
   "execution_count": 122,
   "id": "2d1016e5",
   "metadata": {
    "collapsed": true
   },
   "outputs": [
    {
     "data": {
      "text/plain": [
       "asin\n",
       "B0095PZHPE    0.855305\n",
       "B00B5H5BGA    0.771107\n",
       "B00FMJKRB6    0.854592\n",
       "B00HK61L3C    0.892612\n",
       "B00I5H5Z1O    0.940439\n",
       "dtype: float64"
      ]
     },
     "execution_count": 122,
     "metadata": {},
     "output_type": "execute_result"
    }
   ],
   "source": [
    "#3 Assuma que qualquer review com rating maior que 3 é positivo. (3.5, 4, 4.5, 5.0). Qual percentual de reviews positivos para os cinco produtos com maior quantidade de reviews?\n",
    "\n",
    "#Criando uma coluna com True (1) ou False (0) com uma simplificação do review (>3) \n",
    "df2['review_simples'] = np.where(df2['rating'] > 3, 1,0)\n",
    "\n",
    "#filtrando os produtos top 5 (reviews)\n",
    "df_top5 = df2[df2.asin.isin(df_qtd_reviews.head(5).index)]\n",
    "\n",
    "#contando a quantidade de reviews no top5 (feito antes)\n",
    "df_top5.groupby(['asin'])['asin'].count().sort_values(ascending=False) \n",
    "\n",
    "#somando reviews_resumo = 1, por produto\n",
    "df_top5.groupby(['asin'])['review_simples'].sum()\n",
    "\n",
    "df_top5_count= df_top5.groupby('asin').agg({'asin': 'count', 'review_simples':'sum'})\n",
    "\n",
    "df_top5_count['review_simples']/df_top5_count['asin']"
   ]
  },
  {
   "cell_type": "code",
   "execution_count": 170,
   "id": "855b6f5d",
   "metadata": {},
   "outputs": [
    {
     "data": {
      "text/plain": [
       "asin\n",
       "B004XC5CD6    1.0\n",
       "B005MGDRRA    1.0\n",
       "B005MK9GYO    1.0\n",
       "B005MKA4U4    1.0\n",
       "B005MKP9OK    1.0\n",
       "dtype: float64"
      ]
     },
     "execution_count": 170,
     "metadata": {},
     "output_type": "execute_result"
    }
   ],
   "source": [
    "#4 De acordo com a pergunta acima, qual percentual de reviews positivos para os cinco protudos com maior rating médio?\n",
    "\n",
    "#filtrando os produtos top 5 (rating médio)  \n",
    "df_top5_rating = df2[df2.asin.isin(df_rating_medio.head(5).index)]\n",
    "\n",
    "#contando a quantidade de reviews no top 5 (rating médio)\n",
    "df_top5_rating.groupby('asin').agg({'asin': 'count', 'review_simples':'sum'})\n",
    "\n",
    "#somando reviews_resumo = 1, por produto\n",
    "df_top5_rating.groupby(['asin'])['review_simples'].sum()\n",
    "\n",
    "df_top5_rating= df_top5_rating.groupby('asin').agg({'asin': 'count', 'review_simples':'sum'})\n",
    "\n",
    "df_top5_rating['review_simples']/df_top5_rating['asin']\n",
    "\n"
   ]
  },
  {
   "cell_type": "code",
   "execution_count": 189,
   "id": "82fa0c77",
   "metadata": {},
   "outputs": [
    {
     "data": {
      "text/plain": [
       "0.7785292625728716"
      ]
     },
     "execution_count": 189,
     "metadata": {},
     "output_type": "execute_result"
    }
   ],
   "source": [
    "#5 Quanto menos reviews, mais fácil ter um percentual maior de reviews positivos. Para comparar melhor os melhores produtos, vamos usar uma regra: qual seria o percentual de reviews positivos de todos os produtos, se eu adicionasse 1 review positivo e 1 review negativo? (fonte: https://www.youtube.com/watch?v=8idr1WZ1A7Q)\n",
    "\n",
    "#Criando uma matriz de reviews com campos necessários (contagem de reviews e avaliação simplificada)\n",
    "\n",
    "matriz_review = df2.groupby('asin').agg({'asin': 'count', 'review_simples':'sum'})\n",
    "percent_geral = matriz_review['review_simples'].sum() / matriz_review['asin'].sum() \n",
    "         \n",
    "#Criando contagem com as alterações da regra\n",
    "\n",
    "numerador = matriz_review['review_simples'] + 1 \n",
    "denominador = matriz_review['asin'] + 2\n",
    "\n",
    "numerador.sum()/denominador.sum()\n"
   ]
  },
  {
   "cell_type": "code",
   "execution_count": 197,
   "id": "3596465b",
   "metadata": {},
   "outputs": [
    {
     "data": {
      "text/plain": [
       "0.6634624926115601"
      ]
     },
     "execution_count": 197,
     "metadata": {},
     "output_type": "execute_result"
    }
   ],
   "source": []
  },
  {
   "cell_type": "code",
   "execution_count": 198,
   "id": "0d87c60f",
   "metadata": {},
   "outputs": [
    {
     "data": {
      "text/html": [
       "<div>\n",
       "<style scoped>\n",
       "    .dataframe tbody tr th:only-of-type {\n",
       "        vertical-align: middle;\n",
       "    }\n",
       "\n",
       "    .dataframe tbody tr th {\n",
       "        vertical-align: top;\n",
       "    }\n",
       "\n",
       "    .dataframe thead th {\n",
       "        text-align: right;\n",
       "    }\n",
       "</style>\n",
       "<table border=\"1\" class=\"dataframe\">\n",
       "  <thead>\n",
       "    <tr style=\"text-align: right;\">\n",
       "      <th></th>\n",
       "      <th>asin</th>\n",
       "      <th>title</th>\n",
       "      <th>price</th>\n",
       "      <th>brand</th>\n",
       "      <th>reviewerID</th>\n",
       "      <th>reviewText</th>\n",
       "      <th>rating</th>\n",
       "      <th>review_simples</th>\n",
       "    </tr>\n",
       "  </thead>\n",
       "  <tbody>\n",
       "    <tr>\n",
       "      <th>0</th>\n",
       "      <td>0736789928</td>\n",
       "      <td>Zaner-Bloser Classic Handwriting Pen Single Un...</td>\n",
       "      <td>3.49</td>\n",
       "      <td>Zaner-Bloser</td>\n",
       "      <td>AVEZNYIN8PTCY</td>\n",
       "      <td>This was the pen I used in grade school to lea...</td>\n",
       "      <td>4</td>\n",
       "      <td>1</td>\n",
       "    </tr>\n",
       "    <tr>\n",
       "      <th>1</th>\n",
       "      <td>0767196813</td>\n",
       "      <td>Graphique - Bunco Purse Notes, 3 x 4&amp;quot;, Mu...</td>\n",
       "      <td>3.95</td>\n",
       "      <td>None</td>\n",
       "      <td>A15C9PBP100HLB</td>\n",
       "      <td>At our monthly BUNCO games we give prizes for ...</td>\n",
       "      <td>5</td>\n",
       "      <td>1</td>\n",
       "    </tr>\n",
       "    <tr>\n",
       "      <th>2</th>\n",
       "      <td>1423915380</td>\n",
       "      <td>Renata Battery 370 Sr920W Silver 1.55V Swiss Made</td>\n",
       "      <td>2.85</td>\n",
       "      <td>Renata</td>\n",
       "      <td>A349LYELBIFDVK</td>\n",
       "      <td>Can't get my fossil to work with it. So took i...</td>\n",
       "      <td>4</td>\n",
       "      <td>1</td>\n",
       "    </tr>\n",
       "  </tbody>\n",
       "</table>\n",
       "</div>"
      ],
      "text/plain": [
       "         asin                                              title  price  \\\n",
       "0  0736789928  Zaner-Bloser Classic Handwriting Pen Single Un...   3.49   \n",
       "1  0767196813  Graphique - Bunco Purse Notes, 3 x 4&quot;, Mu...   3.95   \n",
       "2  1423915380  Renata Battery 370 Sr920W Silver 1.55V Swiss Made   2.85   \n",
       "\n",
       "          brand      reviewerID  \\\n",
       "0  Zaner-Bloser   AVEZNYIN8PTCY   \n",
       "1          None  A15C9PBP100HLB   \n",
       "2        Renata  A349LYELBIFDVK   \n",
       "\n",
       "                                          reviewText  rating  review_simples  \n",
       "0  This was the pen I used in grade school to lea...       4               1  \n",
       "1  At our monthly BUNCO games we give prizes for ...       5               1  \n",
       "2  Can't get my fossil to work with it. So took i...       4               1  "
      ]
     },
     "execution_count": 198,
     "metadata": {},
     "output_type": "execute_result"
    }
   ],
   "source": [
    "##################### SEGUNDA PARTE (MERGE)\n",
    "\n",
    "# Criando DF resultado de um merge para buscar as informações de preço do produto\n",
    "\n",
    "df3 = df.merge(df2, on='asin', how='left')\n",
    "df3.head(3)"
   ]
  },
  {
   "cell_type": "code",
   "execution_count": 202,
   "id": "97f93817",
   "metadata": {},
   "outputs": [
    {
     "data": {
      "text/plain": [
       "26.262131177320338"
      ]
     },
     "execution_count": 202,
     "metadata": {},
     "output_type": "execute_result"
    }
   ],
   "source": [
    "#6 Qual o preço médio de todos os produtos?\n",
    "df['price'].mean()"
   ]
  },
  {
   "cell_type": "code",
   "execution_count": 221,
   "id": "e36de138",
   "metadata": {},
   "outputs": [
    {
     "data": {
      "text/plain": [
       "brand\n",
       "3M          13.843805\n",
       "Duracell    14.395696\n",
       "Philips     55.638896\n",
       "Name: price, dtype: float64"
      ]
     },
     "execution_count": 221,
     "metadata": {},
     "output_type": "execute_result"
    }
   ],
   "source": [
    "#7 Qual o preço médio de produtos da Philips, da 3M e da Duracell?\n",
    "df_marcas = df[df.brand.isin(['Philips','3M','Duracell'])]\n",
    "df_marcas.groupby(['brand'])['price'].mean()\n"
   ]
  },
  {
   "cell_type": "code",
   "execution_count": 236,
   "id": "f3b76bab",
   "metadata": {},
   "outputs": [
    {
     "data": {
      "text/plain": [
       "brand\n",
       "3M          0.848980\n",
       "Duracell    0.858382\n",
       "Philips     0.777857\n",
       "dtype: float64"
      ]
     },
     "execution_count": 236,
     "metadata": {},
     "output_type": "execute_result"
    }
   ],
   "source": [
    "#8 Para cada produto da Philips, da 3M e da Duracell, calcule o percentual de reviews positivos (sem usar o conceito acima). Qual o percentual de positivos médio para cada uma dessas marcas? \n",
    "df3_marcas = df3[df3.brand.isin(['Philips','3M','Duracell'])]\n",
    "matriz_review_df3 = df3_marcas.groupby('brand').agg({'reviewerID': 'count', 'review_simples':'sum'})\n",
    "matriz_review_df3['review_simples'] / matriz_review_df3['reviewerID'] \n"
   ]
  }
 ],
 "metadata": {
  "kernelspec": {
   "display_name": "Python 3 (ipykernel)",
   "language": "python",
   "name": "python3"
  },
  "language_info": {
   "codemirror_mode": {
    "name": "ipython",
    "version": 3
   },
   "file_extension": ".py",
   "mimetype": "text/x-python",
   "name": "python",
   "nbconvert_exporter": "python",
   "pygments_lexer": "ipython3",
   "version": "3.9.7"
  }
 },
 "nbformat": 4,
 "nbformat_minor": 5
}
